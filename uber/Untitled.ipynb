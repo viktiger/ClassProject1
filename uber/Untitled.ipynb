{
 "cells": [
  {
   "cell_type": "code",
   "execution_count": null,
   "id": "af22be5a",
   "metadata": {},
   "outputs": [],
   "source": [
    "#uber_data_4.dtypes\n",
    "\n",
    "# from datetime import datetime\n",
    "# uber_data_4[\"Date/Time\"] = uber_data_4[\"Date/Time\"].astype(\"datetime64\")\n",
    "# uber_data_5[\"Date/Time\"] = uber_data_5[\"Date/Time\"].astype(\"datetime64\")\n",
    "# uber_data_6[\"Date/Time\"] = uber_data_6[\"Date/Time\"].astype(\"datetime64\")\n",
    "# uber_data_7[\"Date/Time\"] = uber_data_7[\"Date/Time\"].astype(\"datetime64\")\n",
    "# uber_data_8[\"Date/Time\"] = uber_data_8[\"Date/Time\"].astype(\"datetime64\")\n",
    "# uber_data_9[\"Date/Time\"] = uber_data_9[\"Date/Time\"].astype(\"datetime64\")"
   ]
  }
 ],
 "metadata": {
  "kernelspec": {
   "display_name": "Python 3",
   "language": "python",
   "name": "python3"
  },
  "language_info": {
   "codemirror_mode": {
    "name": "ipython",
    "version": 3
   },
   "file_extension": ".py",
   "mimetype": "text/x-python",
   "name": "python",
   "nbconvert_exporter": "python",
   "pygments_lexer": "ipython3",
   "version": "3.6.10"
  }
 },
 "nbformat": 4,
 "nbformat_minor": 5
}
